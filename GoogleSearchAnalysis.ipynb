{
  "nbformat": 4,
  "nbformat_minor": 0,
  "metadata": {
    "colab": {
      "name": "GoogleSearchAnalysis.ipynb",
      "provenance": [],
      "collapsed_sections": [],
      "authorship_tag": "ABX9TyO+M45h0yu2BiAfrhQPOhid",
      "include_colab_link": true
    },
    "kernelspec": {
      "name": "python3",
      "display_name": "Python 3"
    },
    "language_info": {
      "name": "python"
    }
  },
  "cells": [
    {
      "cell_type": "markdown",
      "metadata": {
        "id": "view-in-github",
        "colab_type": "text"
      },
      "source": [
        "<a href=\"https://colab.research.google.com/github/dev-gangwar/IBM-Mini_Project/blob/main/GoogleSearchAnalysis.ipynb\" target=\"_parent\"><img src=\"https://colab.research.google.com/assets/colab-badge.svg\" alt=\"Open In Colab\"/></a>"
      ]
    },
    {
      "cell_type": "code",
      "metadata": {
        "colab": {
          "base_uri": "https://localhost:8080/"
        },
        "id": "0-isl8A8kwAK",
        "outputId": "d26a4c8c-d07e-46c3-a610-387e84019619"
      },
      "source": [
        "pip install pytrends"
      ],
      "execution_count": null,
      "outputs": [
        {
          "output_type": "stream",
          "name": "stdout",
          "text": [
            "Requirement already satisfied: pytrends in /usr/local/lib/python3.7/dist-packages (4.7.3)\n",
            "Requirement already satisfied: pandas>=0.25 in /usr/local/lib/python3.7/dist-packages (from pytrends) (1.1.5)\n",
            "Requirement already satisfied: lxml in /usr/local/lib/python3.7/dist-packages (from pytrends) (4.2.6)\n",
            "Requirement already satisfied: requests in /usr/local/lib/python3.7/dist-packages (from pytrends) (2.23.0)\n",
            "Requirement already satisfied: pytz>=2017.2 in /usr/local/lib/python3.7/dist-packages (from pandas>=0.25->pytrends) (2018.9)\n",
            "Requirement already satisfied: python-dateutil>=2.7.3 in /usr/local/lib/python3.7/dist-packages (from pandas>=0.25->pytrends) (2.8.2)\n",
            "Requirement already satisfied: numpy>=1.15.4 in /usr/local/lib/python3.7/dist-packages (from pandas>=0.25->pytrends) (1.19.5)\n",
            "Requirement already satisfied: six>=1.5 in /usr/local/lib/python3.7/dist-packages (from python-dateutil>=2.7.3->pandas>=0.25->pytrends) (1.15.0)\n",
            "Requirement already satisfied: chardet<4,>=3.0.2 in /usr/local/lib/python3.7/dist-packages (from requests->pytrends) (3.0.4)\n",
            "Requirement already satisfied: idna<3,>=2.5 in /usr/local/lib/python3.7/dist-packages (from requests->pytrends) (2.10)\n",
            "Requirement already satisfied: certifi>=2017.4.17 in /usr/local/lib/python3.7/dist-packages (from requests->pytrends) (2021.10.8)\n",
            "Requirement already satisfied: urllib3!=1.25.0,!=1.25.1,<1.26,>=1.21.1 in /usr/local/lib/python3.7/dist-packages (from requests->pytrends) (1.24.3)\n"
          ]
        }
      ]
    },
    {
      "cell_type": "code",
      "metadata": {
        "id": "xm_AReqRt5jU"
      },
      "source": [
        "#connection with google\n",
        "from pytrends.request import TrendReq\n",
        "pytrends=TrendReq(hl='en-US')"
      ],
      "execution_count": null,
      "outputs": []
    },
    {
      "cell_type": "code",
      "metadata": {
        "id": "qb46t8fOutT_",
        "colab": {
          "base_uri": "https://localhost:8080/"
        },
        "outputId": "ada8ac65-192c-434a-bf9f-a9b737cc10ed"
      },
      "source": [
        "#build payload\n",
        "kw_list=[\"porn\",\"nudes\",\"rape\",\"pokemon\"]\n",
        "temp_kw=[] #for more than 5 keywords\n",
        "cat='0' #category\n",
        "geo='' #location\n",
        "timeframe='today 5-y' #timeperiod \n",
        "gprop=''\n",
        "def check_trends():\n",
        "  pytrends.build_payload(kw_list,cat,timeframe,geo,gprop)\n",
        "  data=pytrends.interest_over_time()\n",
        "  mean=round(data.mean(),2)\n",
        "  avg=round(data[kw][-52:].mean(),2)\n",
        "  avg2=round(data[kw][:52].mean(),2)\n",
        "  trend=round(((avg/mean[kw])-1)*100,2) #trend of last 5 years\n",
        "  trend=round(((avg/avg2)-1)*100,2)\n",
        "  print('the average 5 years interest of '+kw+' was '+str(mean[kw]))\n",
        "  print('the last year interest of '+kw+' compared to last 5 years'+' has changed by'+str(trend)+'%.')\n",
        "  #print(kw +':'+str(mean[kw]))\n",
        "\n",
        "\n",
        "for kw in kw_list:\n",
        "  temp_kw.append(kw)\n",
        "  check_trends()\n",
        "  temp_kw.pop()"
      ],
      "execution_count": null,
      "outputs": [
        {
          "output_type": "stream",
          "name": "stdout",
          "text": [
            "the average 5 years interest of porn was 81.83\n",
            "the last year interest of porn compared to last 5 years has changed by-10.37%.\n",
            "the average 5 years interest of nudes was 1.71\n",
            "the last year interest of nudes compared to last 5 years has changed by4.17%.\n",
            "the average 5 years interest of rape was 2.5\n",
            "the last year interest of rape compared to last 5 years has changed by-34.84%.\n",
            "the average 5 years interest of pokemon was 11.85\n",
            "the last year interest of pokemon compared to last 5 years has changed by-20.74%.\n"
          ]
        }
      ]
    }
  ]
}